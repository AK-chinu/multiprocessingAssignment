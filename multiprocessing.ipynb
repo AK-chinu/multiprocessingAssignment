{
 "cells": [
  {
   "cell_type": "markdown",
   "id": "db4aac4d-09ce-4e7a-8331-6b145b3eb04e",
   "metadata": {},
   "source": [
    "\n",
    "Multiprocessing in Python refers to a technique of executing multiple processes concurrently, taking advantage of multiple CPU cores to improve performance and efficiency. Python's multiprocessing module provides a way to create and manage processes, allowing developers to leverage parallelism in their programs.\n",
    "\n",
    "Here are some reasons why multiprocessing in Python is useful:\n",
    "\n",
    "Parallelism: Multiprocessing allows you to execute multiple tasks simultaneously, taking advantage of multiple CPU cores. This can significantly speed up the execution of CPU-bound tasks.\n",
    "\n",
    "Improved Performance: By distributing tasks across multiple processes, you can reduce the overall execution time of your program, especially when dealing with computationally intensive tasks.\n",
    "\n",
    "Concurrency: Multiprocessing enables concurrent execution of tasks, which can be useful for I/O-bound operations where the program spends a lot of time waiting for external resources (such as disk I/O or network I/O).\n",
    "\n",
    "Isolation: Each process has its own memory space, which provides better isolation compared to threading. This can help prevent issues like race conditions and deadlocks.\n",
    "\n",
    "Fault Tolerance: If one process crashes due to an error, it typically does not affect other processes, ensuring better fault tolerance in multiprocessing compared to multithreading.\n",
    "\n",
    "Scalability: Multiprocessing allows you to scale your application across multiple CPU cores, making it suitable for handling large workloads and increasing throughput."
   ]
  },
  {
   "cell_type": "code",
   "execution_count": null,
   "id": "9ba70d27-8ce7-4138-af5d-be67ac4e896c",
   "metadata": {},
   "outputs": [],
   "source": []
  },
  {
   "cell_type": "markdown",
   "id": "43e237ad-ce0f-4e30-aabf-8cbe578886b8",
   "metadata": {},
   "source": [
    "Multiprocessing and multithreading are both techniques used to achieve concurrency and parallelism in programming, but they have distinct differences in how they handle concurrency and utilize system resources. Here are the key differences between multiprocessing and multithreading:\n",
    "\n",
    "Execution Model:\n",
    "\n",
    "Multiprocessing: In multiprocessing, multiple processes are created, each with its own memory space and resources. These processes run independently and can execute different parts of the program concurrently. Communication between processes typically involves inter-process communication (IPC) mechanisms such as pipes, queues, or shared memory.\n",
    "Multithreading: In multithreading, multiple threads are created within a single process. Threads share the same memory space and resources, allowing them to access shared data directly. Threads within the same process can execute different parts of the program concurrently.\n",
    "Isolation:\n",
    "\n",
    "Multiprocessing: Processes are isolated from each other, with their own memory space. This provides better protection against memory corruption and crashes, as one process crashing generally does not affect others.\n",
    "Multithreading: Threads within the same process share the same memory space, which can lead to issues like race conditions and data corruption if not properly synchronized.\n",
    "Resource Usage:\n",
    "\n",
    "Multiprocessing: Each process has its own memory space and resources, including CPU cores. Multiprocessing can utilize multiple CPU cores effectively and is suitable for CPU-bound tasks.\n",
    "Multithreading: Threads within the same process share resources such as memory and CPU cores. Multithreading is more suitable for I/O-bound tasks where threads spend a lot of time waiting for external resources (e.g., disk I/O, network I/O), as threads can be blocked without affecting the execution of other threads.\n",
    "Overhead:\n",
    "\n",
    "Multiprocessing: Creating and managing separate processes incurs more overhead compared to multithreading. Inter-process communication can also introduce additional overhead.\n",
    "Multithreading: Creating and managing threads within the same process has less overhead compared to multiprocessing. However, synchronization between threads can introduce overhead and complexity.\n",
    "Scalability:\n",
    "\n",
    "Multiprocessing: Multiprocessing can scale across multiple CPU cores, making it suitable for parallel execution of CPU-bound tasks.\n",
    "Multithreading: Due to the Global Interpreter Lock (GIL) in CPython, multithreading may not scale well for CPU-bound tasks in Python, as only one thread can execute Python bytecode at a time. However, it can still be effective for I/O-bound tasks and situations where the GIL is not a bottleneck."
   ]
  },
  {
   "cell_type": "code",
   "execution_count": null,
   "id": "681a3c5f-e998-49b7-991e-8db17fa524a4",
   "metadata": {},
   "outputs": [],
   "source": []
  },
  {
   "cell_type": "code",
   "execution_count": 1,
   "id": "0479caa2-1de1-43a8-af5f-35ee15fa7817",
   "metadata": {},
   "outputs": [
    {
     "name": "stdout",
     "output_type": "stream",
     "text": [
      "Worker process ID: 214\n",
      "Main process ID: 77\n",
      "Main process waiting for the worker process to finish...\n",
      "Worker process finished execution.\n",
      "Main process resumed execution.\n"
     ]
    }
   ],
   "source": [
    "import multiprocessing\n",
    "import os\n",
    "import time\n",
    "\n",
    "def worker():\n",
    "    \"\"\"Function to be executed by the process.\"\"\"\n",
    "    print(f\"Worker process ID: {os.getpid()}\")\n",
    "    time.sleep(2)  # Simulate some task\n",
    "    print(\"Worker process finished execution.\")\n",
    "\n",
    "if __name__ == \"__main__\":\n",
    "    # Create a multiprocessing Process object\n",
    "    process = multiprocessing.Process(target=worker)\n",
    "\n",
    "    # Start the process\n",
    "    process.start()\n",
    "\n",
    "    print(f\"Main process ID: {os.getpid()}\")\n",
    "    print(\"Main process waiting for the worker process to finish...\")\n",
    "\n",
    "    # Wait for the process to finish\n",
    "    process.join()\n",
    "\n",
    "    print(\"Main process resumed execution.\")\n"
   ]
  },
  {
   "cell_type": "code",
   "execution_count": null,
   "id": "4306fa60-854c-4448-b062-949fdb54ec4b",
   "metadata": {},
   "outputs": [],
   "source": []
  },
  {
   "cell_type": "markdown",
   "id": "e8710671-9d58-4a5e-833d-cc341bd25b66",
   "metadata": {},
   "source": [
    "Initialization: You create a multiprocessing pool by initializing an instance of the multiprocessing.Pool class, specifying the desired number of worker processes (if not specified, it defaults to the number of CPU cores).\n",
    "\n",
    "Task Distribution: Once the pool is created, you can submit tasks to the pool using its apply, map, apply_async, or map_async methods. These methods distribute the tasks among the worker processes in the pool.\n",
    "\n",
    "Task Execution: The worker processes in the pool execute the submitted tasks concurrently. Each process picks up a task from the task queue, executes it, and returns the result (if any) to the parent process.\n",
    "\n",
    "Result Retrieval: After all tasks are completed, you can retrieve the results (if any) from the pool. The results can be obtained using the get method of the result objects returned by the apply_async or map_async methods.\n",
    "\n",
    "Multiprocessing pools are useful for several reasons:\n",
    "\n",
    "Parallelism: Pools allow you to execute multiple tasks concurrently, leveraging the processing power of multiple CPU cores. This can significantly speed up the execution of CPU-bound tasks.\n",
    "\n",
    "Simplified Task Management: Pools abstract away the complexities of managing multiple processes, such as process creation, synchronization, and communication. You can focus on defining the tasks and let the pool handle the process management.\n",
    "\n",
    "Efficient Resource Utilization: Pools manage a fixed number of worker processes, which helps in efficiently utilizing system resources without overwhelming the system with too many processes.\n",
    "\n",
    "Scalability: Pools can scale across multiple CPU cores, making them suitable for parallel execution of computationally intensive tasks on multicore systems.\n",
    "\n",
    "Asynchronous Execution: Pools support asynchronous task execution, allowing you to submit tasks asynchronously and continue with other tasks while waiting for the results."
   ]
  },
  {
   "cell_type": "code",
   "execution_count": null,
   "id": "757ca954-7810-4075-b7c4-028849729e67",
   "metadata": {},
   "outputs": [],
   "source": []
  }
 ],
 "metadata": {
  "kernelspec": {
   "display_name": "Python 3 (ipykernel)",
   "language": "python",
   "name": "python3"
  },
  "language_info": {
   "codemirror_mode": {
    "name": "ipython",
    "version": 3
   },
   "file_extension": ".py",
   "mimetype": "text/x-python",
   "name": "python",
   "nbconvert_exporter": "python",
   "pygments_lexer": "ipython3",
   "version": "3.10.8"
  }
 },
 "nbformat": 4,
 "nbformat_minor": 5
}
